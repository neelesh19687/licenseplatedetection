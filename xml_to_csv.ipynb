{
 "cells": [
  {
   "cell_type": "code",
   "execution_count": 3,
   "id": "b6b59b88",
   "metadata": {},
   "outputs": [],
   "source": [
    "import pandas as pd\n",
    "import xml.etree.ElementTree as xet"
   ]
  },
  {
   "cell_type": "code",
   "execution_count": 4,
   "id": "64c5963a",
   "metadata": {},
   "outputs": [],
   "source": [
    "from glob import glob"
   ]
  },
  {
   "cell_type": "code",
   "execution_count": 5,
   "id": "0f52f617",
   "metadata": {},
   "outputs": [
    {
     "data": {
      "text/plain": [
       "['./images\\\\N1.xml',\n",
       " './images\\\\N10.xml',\n",
       " './images\\\\N11.xml',\n",
       " './images\\\\N12.xml',\n",
       " './images\\\\N13.xml',\n",
       " './images\\\\N14.xml',\n",
       " './images\\\\N15.xml',\n",
       " './images\\\\N16.xml',\n",
       " './images\\\\N18.xml',\n",
       " './images\\\\N19.xml',\n",
       " './images\\\\N2.xml',\n",
       " './images\\\\N20.xml',\n",
       " './images\\\\N21.xml',\n",
       " './images\\\\N22.xml',\n",
       " './images\\\\N23.xml',\n",
       " './images\\\\N24.xml',\n",
       " './images\\\\N25.xml',\n",
       " './images\\\\N26.xml',\n",
       " './images\\\\N27.xml',\n",
       " './images\\\\N28.xml',\n",
       " './images\\\\N29.xml',\n",
       " './images\\\\N3.xml',\n",
       " './images\\\\N30.xml',\n",
       " './images\\\\N31.xml',\n",
       " './images\\\\N32.xml',\n",
       " './images\\\\N33.xml',\n",
       " './images\\\\N34.xml',\n",
       " './images\\\\N35.xml',\n",
       " './images\\\\N36.xml',\n",
       " './images\\\\N37.xml',\n",
       " './images\\\\N38.xml',\n",
       " './images\\\\N39.xml',\n",
       " './images\\\\N4.xml',\n",
       " './images\\\\N40.xml',\n",
       " './images\\\\N41.xml',\n",
       " './images\\\\N42.xml',\n",
       " './images\\\\N43.xml',\n",
       " './images\\\\N44.xml',\n",
       " './images\\\\N45.xml',\n",
       " './images\\\\N49.xml',\n",
       " './images\\\\N5.xml',\n",
       " './images\\\\N6.xml',\n",
       " './images\\\\N7.xml',\n",
       " './images\\\\N8.xml',\n",
       " './images\\\\N9.xml']"
      ]
     },
     "execution_count": 5,
     "metadata": {},
     "output_type": "execute_result"
    }
   ],
   "source": [
    "path= glob('./images/*.xml')\n",
    "path"
   ]
  },
  {
   "cell_type": "code",
   "execution_count": null,
   "id": "7fd613f2",
   "metadata": {},
   "outputs": [],
   "source": []
  }
 ],
 "metadata": {
  "kernelspec": {
   "display_name": "Python 3 (ipykernel)",
   "language": "python",
   "name": "python3"
  },
  "language_info": {
   "codemirror_mode": {
    "name": "ipython",
    "version": 3
   },
   "file_extension": ".py",
   "mimetype": "text/x-python",
   "name": "python",
   "nbconvert_exporter": "python",
   "pygments_lexer": "ipython3",
   "version": "3.9.12"
  }
 },
 "nbformat": 4,
 "nbformat_minor": 5
}
